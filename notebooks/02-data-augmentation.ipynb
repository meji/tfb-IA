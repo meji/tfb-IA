{
 "cells": [
  {
   "cell_type": "markdown",
   "metadata": {},
   "source": [
    "# Aumento de datos\n",
    "Vamos a aumentar la muestra con algunas técnicas como cambio de color, espejado, rotación etc en cada caso. Como cada caso es distinto aplicaremos diferentes técnicas"
   ]
  },
  {
   "cell_type": "markdown",
   "metadata": {},
   "source": []
  },
  {
   "cell_type": "code",
   "execution_count": 2,
   "metadata": {},
   "outputs": [
    {
     "name": "stdout",
     "output_type": "stream",
     "text": [
      "Initialised with 22 image(s) found.\n",
      "Output directory set to ./../data/processed/cuadros-coleccion/./../data/augmented/cuadros-coleccion."
     ]
    },
    {
     "name": "stderr",
     "output_type": "stream",
     "text": [
      "Processing <PIL.JpegImagePlugin.JpegImageFile image mode=RGB size=512x679 at 0x111585610>: 100%|██████████| 1000/1000 [00:10<00:00, 92.44 Samples/s]\n"
     ]
    },
    {
     "name": "stdout",
     "output_type": "stream",
     "text": [
      "Initialised with 36 image(s) found.\n",
      "Output directory set to ./../data/processed/cuadros-figuras/./../data/augmented/cuadros-figuras."
     ]
    },
    {
     "name": "stderr",
     "output_type": "stream",
     "text": [
      "Processing <PIL.Image.Image image mode=RGB size=512x287 at 0x10E8AF200>: 100%|██████████| 1000/1000 [00:10<00:00, 98.74 Samples/s]                  \n"
     ]
    },
    {
     "name": "stdout",
     "output_type": "stream",
     "text": [
      "Initialised with 3 image(s) found.\n",
      "Output directory set to ./../data/processed/esculturas/./../data/augmented/esculturas."
     ]
    },
    {
     "name": "stderr",
     "output_type": "stream",
     "text": [
      "Processing <PIL.JpegImagePlugin.JpegImageFile image mode=RGB size=512x384 at 0x10E8AFB60>: 100%|██████████| 1000/1000 [00:08<00:00, 123.23 Samples/s]\n"
     ]
    },
    {
     "name": "stdout",
     "output_type": "stream",
     "text": [
      "Initialised with 7 image(s) found.\n",
      "Output directory set to ./../data/processed/esculturas-coleccion/./../data/augmented/esculturas-coleccion."
     ]
    },
    {
     "name": "stderr",
     "output_type": "stream",
     "text": [
      "Processing <PIL.Image.Image image mode=RGB size=512x716 at 0x10E95AD20>: 100%|██████████| 1000/1000 [00:09<00:00, 105.72 Samples/s]                 \n"
     ]
    },
    {
     "name": "stdout",
     "output_type": "stream",
     "text": [
      "Initialised with 56 image(s) found.\n",
      "Output directory set to ./../data/processed/murales/./../data/augmented/murales."
     ]
    },
    {
     "name": "stderr",
     "output_type": "stream",
     "text": [
      "Processing <PIL.Image.Image image mode=RGB size=512x512 at 0x10E948650>: 100%|██████████| 1000/1000 [00:09<00:00, 110.43 Samples/s]                 \n"
     ]
    }
   ],
   "source": [
    "import Augmentor\n",
    "import os\n",
    "\n",
    "def augment_data(input_folder, output_folder, operations, sample_size=1000):\n",
    "    p = Augmentor.Pipeline(input_folder, output_directory=output_folder)\n",
    "    \n",
    "    # Añadir operaciones de aumento de datos según las especificaciones\n",
    "    for operation in operations:\n",
    "        if operation == \"rotate\":\n",
    "            p.rotate(probability=0.7, max_left_rotation=10, max_right_rotation=10)\n",
    "        elif operation == \"flip_lr\":\n",
    "            p.flip_left_right(probability=0.5)\n",
    "        elif operation == \"flip_tb\":\n",
    "            p.flip_top_bottom(probability=0.5)\n",
    "        elif operation == \"random_contrast\":\n",
    "            p.random_contrast(probability=0.5, min_factor=0.7, max_factor=1.3)\n",
    "        elif operation == \"random_brightness\":\n",
    "            p.random_brightness(probability=0.5, min_factor=0.7, max_factor=1.3)\n",
    "        elif operation == \"random_color\":\n",
    "            p.random_color(probability=0.5, min_factor=0.7, max_factor=1.3)\n",
    "        elif operation == \"crop_random\":\n",
    "            p.crop_random(probability=0.5, percentage_area=0.8)\n",
    "    \n",
    "    p.sample(sample_size)\n",
    "\n",
    "# Rutas de las carpetas de entrada y salida\n",
    "input_base_folder = \"./../data/processed\"\n",
    "output_base_folder = \"./../data/augmented\"\n",
    "\n",
    "# Configuraciones específicas para cada carpeta\n",
    "folders_config = {\n",
    "    \"cuadros-coleccion\": [\"random_contrast\", \"random_brightness\", \"random_color\"],\n",
    "    \"cuadros-figuras\": [\"rotate\", \"flip_lr\", \"flip_tb\", \"random_contrast\", \"random_brightness\", \"random_color\", \"crop_random\"],\n",
    "    \"esculturas\": [\"flip_lr\", \"random_contrast\", \"random_brightness\", \"random_color\"],\n",
    "    \"esculturas-coleccion\": [\"flip_lr\", \"random_contrast\", \"random_brightness\", \"random_color\"],\n",
    "    \"murales\": [\"rotate\", \"flip_lr\", \"flip_tb\", \"random_contrast\", \"random_brightness\", \"random_color\", \"crop_random\"]\n",
    "}\n",
    "\n",
    "# Procesar cada carpeta con sus operaciones específicas\n",
    "for folder, operations in folders_config.items():\n",
    "    input_folder = os.path.join(input_base_folder, folder)\n",
    "    output_folder = os.path.join(output_base_folder, folder)\n",
    "    augment_data(input_folder, output_folder, operations, sample_size=1000)\n"
   ]
  },
  {
   "cell_type": "code",
   "execution_count": null,
   "metadata": {},
   "outputs": [],
   "source": []
  }
 ],
 "metadata": {
  "kernelspec": {
   "display_name": "base",
   "language": "python",
   "name": "python3"
  },
  "language_info": {
   "codemirror_mode": {
    "name": "ipython",
    "version": 3
   },
   "file_extension": ".py",
   "mimetype": "text/x-python",
   "name": "python",
   "nbconvert_exporter": "python",
   "pygments_lexer": "ipython3",
   "version": "3.12.2"
  }
 },
 "nbformat": 4,
 "nbformat_minor": 2
}
